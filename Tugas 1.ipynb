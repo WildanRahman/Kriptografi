{
 "cells": [
  {
   "cell_type": "markdown",
   "metadata": {},
   "source": [
    "# Enkripsi Teks"
   ]
  },
  {
   "cell_type": "code",
   "execution_count": 12,
   "metadata": {},
   "outputs": [],
   "source": [
    "def caesar_encrypt(text, shift):\n",
    "    encrypted_text = \"\"\n",
    "    for char in text:\n",
    "        if char.isalpha():\n",
    "            shifted = ord(char) + shift\n",
    "            if char.islower():\n",
    "                if shifted > ord('z'):\n",
    "                    shifted -= 26\n",
    "                encrypted_text += chr(shifted)\n",
    "            elif char.isupper():\n",
    "                if shifted > ord('Z'):\n",
    "                    shifted -= 26\n",
    "                encrypted_text += chr(shifted)\n",
    "        else:\n",
    "            encrypted_text += char\n",
    "    return encrypted_text\n",
    "\n",
    "def double_caesar_encrypt(text, shift1, shift2):\n",
    "    encrypted_once = caesar_encrypt(text, shift1)\n",
    "    encrypted_twice = caesar_encrypt(encrypted_once, shift2)\n",
    "    return encrypted_twice"
   ]
  },
  {
   "cell_type": "markdown",
   "metadata": {},
   "source": [
    "## Contoh Penggunaan"
   ]
  },
  {
   "cell_type": "code",
   "execution_count": 13,
   "metadata": {},
   "outputs": [
    {
     "name": "stdout",
     "output_type": "stream",
     "text": [
      "Teks Terenkripsi: Uzu mpmxmt oazfat fqwe gzfgw puqzwdubeu\n"
     ]
    }
   ],
   "source": [
    "plain_text = \"Ini adalah contoh teks untuk dienkripsi\"\n",
    "shift1 = 5\n",
    "shift2 = 7\n",
    "\n",
    "encrypted_text = double_caesar_encrypt(plain_text, shift1, shift2)\n",
    "print(\"Teks Terenkripsi:\", encrypted_text)"
   ]
  },
  {
   "cell_type": "markdown",
   "metadata": {},
   "source": [
    "## Customisasi Teks dan Jumlah pergeseran"
   ]
  },
  {
   "cell_type": "code",
   "execution_count": 8,
   "metadata": {},
   "outputs": [
    {
     "name": "stdout",
     "output_type": "stream",
     "text": [
      "Teks Terenkripsi: feqferk\n"
     ]
    }
   ],
   "source": [
    "# Meminta input dari pengguna\n",
    "plain_text = input(\"Masukkan teks yang ingin dienkripsi: \")\n",
    "shift1 = int(input(\"Masukkan pergeseran pertama: \"))\n",
    "shift2 = int(input(\"Masukkan pergeseran kedua: \"))\n",
    "\n",
    "# Melakukan enkripsi\n",
    "encrypted_text = double_caesar_encrypt(plain_text, shift1, shift2)\n",
    "print(\"Teks Terenkripsi:\", encrypted_text)"
   ]
  },
  {
   "cell_type": "markdown",
   "metadata": {},
   "source": [
    "# Dekripsi Teks"
   ]
  },
  {
   "cell_type": "code",
   "execution_count": 9,
   "metadata": {},
   "outputs": [],
   "source": [
    "def caesar_decrypt(text, shift):\n",
    "    decrypted_text = \"\"\n",
    "    for char in text:\n",
    "        if char.isalpha():\n",
    "            shifted = ord(char) - shift\n",
    "            if char.islower():\n",
    "                if shifted < ord('a'):\n",
    "                    shifted += 26\n",
    "                decrypted_text += chr(shifted)\n",
    "            elif char.isupper():\n",
    "                if shifted < ord('A'):\n",
    "                    shifted += 26\n",
    "                decrypted_text += chr(shifted)\n",
    "        else:\n",
    "            decrypted_text += char\n",
    "    return decrypted_text\n",
    "\n",
    "def double_caesar_decrypt(text, shift1, shift2):\n",
    "    decrypted_once = caesar_decrypt(text, shift2)\n",
    "    decrypted_twice = caesar_decrypt(decrypted_once, shift1)\n",
    "    return decrypted_twice"
   ]
  },
  {
   "cell_type": "markdown",
   "metadata": {},
   "source": [
    "## Contoh Penggunaan"
   ]
  },
  {
   "cell_type": "code",
   "execution_count": 10,
   "metadata": {},
   "outputs": [
    {
     "name": "stdout",
     "output_type": "stream",
     "text": [
      "Teks Terdekripsi: Ini adalah contoh teks untuk dienkripsi\n"
     ]
    }
   ],
   "source": [
    "encrypted_text = \"Uzu mpmxmt oazfat fqwe gzfgw puqzwdubeu\"\n",
    "shift1 = 5\n",
    "shift2 = 7\n",
    "\n",
    "decrypted_text = double_caesar_decrypt(encrypted_text, shift1, shift2)\n",
    "print(\"Teks Terdekripsi:\", decrypted_text)"
   ]
  },
  {
   "cell_type": "markdown",
   "metadata": {},
   "source": [
    "## Kustomisasi teks dan dekripsi"
   ]
  },
  {
   "cell_type": "code",
   "execution_count": 11,
   "metadata": {},
   "outputs": [
    {
     "name": "stdout",
     "output_type": "stream",
     "text": [
      "Teks Terdekripsi: bambang\n"
     ]
    }
   ],
   "source": [
    "# Meminta input dari pengguna\n",
    "encrypted_text = input(\"Masukkan teks yang ingin didekripsi: \")\n",
    "shift1 = int(input(\"Masukkan pergeseran pertama: \"))\n",
    "shift2 = int(input(\"Masukkan pergeseran kedua: \"))\n",
    "\n",
    "# Melakukan dekripsi\n",
    "decrypted_text = double_caesar_decrypt(encrypted_text, shift1, shift2)\n",
    "print(\"Teks Terdekripsi:\", decrypted_text)"
   ]
  }
 ],
 "metadata": {
  "kernelspec": {
   "display_name": "Python 3",
   "language": "python",
   "name": "python3"
  },
  "language_info": {
   "codemirror_mode": {
    "name": "ipython",
    "version": 3
   },
   "file_extension": ".py",
   "mimetype": "text/x-python",
   "name": "python",
   "nbconvert_exporter": "python",
   "pygments_lexer": "ipython3",
   "version": "3.12.1"
  }
 },
 "nbformat": 4,
 "nbformat_minor": 2
}
